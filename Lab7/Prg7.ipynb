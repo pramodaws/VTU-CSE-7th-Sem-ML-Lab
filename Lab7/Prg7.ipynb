{
 "cells": [
  {
   "cell_type": "code",
   "execution_count": null,
   "metadata": {},
   "outputs": [],
   "source": [
    "import numpy as np\n",
    "import pandas as pd\n",
    "import csv\n",
    "from pgmpy.estimators import MaximumLikelihoodEstimator \n",
    "from pgmpy.models import BayesianModel\n",
    "from pgmpy.inference import VariableElimination\n",
    "\n",
    "#Read the attributes\n",
    "lines = list(csv.reader(open('prg7.1.csv', 'r')));\n",
    "attributes = lines[0]\n",
    "#attributes = ['age', 'sex', 'cp', 'trestbps', 'chol', 'fbs', 'restecg', 'thalach', 'exang', #\t'oldpeak', 'slope', 'ca', 'thal', 'heartdisease']\n",
    "\n",
    "#Read Cleveland Heart dicease data\n",
    "heartDisease = pd.read_csv('prg7.2.csv', names = attributes)\n",
    "heartDisease = heartDisease.replace('?', np.nan)\n",
    "\n",
    "# Display the data\n",
    "print('Few examples from the dataset are given below')\n",
    "print(heartDisease.head())\n",
    "\n",
    "print('\\n Attributes and datatypes') \n",
    "print(heartDisease.dtypes)\n",
    "\n",
    "# Model Baysian Network\n",
    "model = BayesianModel([('age', 'trestbps'), ('age', 'fbs'), ('sex', 'trestbps'), ('sex', 'trestbps'),\n",
    "('exang', 'trestbps'),('trestbps','heartdisease'),('fbs','heartdisease'),\n",
    "('heartdisease','restecg'),('heartdisease','thalach'),('heartdisease','chol')])\n",
    "\n",
    "# Learning CPDs using Maximum Likelihood Estimators \n",
    "print('\\nLearning CPDs using Maximum Likelihood Estimators...');\n",
    "model.fit(heartDisease, estimator=MaximumLikelihoodEstimator)\n",
    "\n",
    "# Inferencing with Bayesian Network \n",
    "print('\\nInferencing with Bayesian Network:') \n",
    "HeartDisease_infer = VariableElimination(model)\n",
    "\n",
    "# Computing the probability of bronc given smoke. \n",
    "print('\\n1.Probability of HeartDisease given Age=20')\n",
    "q = HeartDisease_infer.query(variables=['heartdisease'], evidence={'age': 28})\n",
    "print(q['heartdisease'])\n",
    "\n",
    "print('\\n2. Probability of HeartDisease given chol (Cholestoral) =100')\n",
    "q = HeartDisease_infer.query(variables=['heartdisease'], evidence={'chol': 100}) \n",
    "print(q['heartdisease'])"
   ]
  }
 ],
 "metadata": {
  "kernelspec": {
   "display_name": "Python 3",
   "language": "python",
   "name": "python3"
  },
  "language_info": {
   "codemirror_mode": {
    "name": "ipython",
    "version": 3
   },
   "file_extension": ".py",
   "mimetype": "text/x-python",
   "name": "python",
   "nbconvert_exporter": "python",
   "pygments_lexer": "ipython3",
   "version": "3.8.3"
  }
 },
 "nbformat": 4,
 "nbformat_minor": 4
}
